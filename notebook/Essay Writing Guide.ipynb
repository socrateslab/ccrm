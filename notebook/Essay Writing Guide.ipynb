{
 "cells": [
  {
   "cell_type": "markdown",
   "metadata": {
    "slideshow": {
     "slide_type": "slide"
    }
   },
   "source": [
    "# The Power of Writing: Ten Steps of Essay Writing\n",
    "\n",
    "Jordan B Peterson\n",
    "\n",
    "\n",
    "[PDF]( https://github.com/socrateslab/workshop/files/7575610/Essay.Writing.Guide.pdf)  |   [Notebook](https://github.com/socrateslab/workshop/blob/main/notebook/Essay%20Writing%20Guide.ipynb)  | [Slides](https://nbviewer.org/format/slides/github/socrateslab/workshop/blob/main/notebook/Essay%20Writing%20Guide.ipynb#/)"
   ]
  },
  {
   "cell_type": "markdown",
   "metadata": {
    "slideshow": {
     "slide_type": "subslide"
    }
   },
   "source": [
    "\n",
    "- Writing is obviously **far more than mere formatting**. \n",
    "- To write an excellent essay using **a ten-step process**. \n"
   ]
  },
  {
   "cell_type": "markdown",
   "metadata": {
    "slideshow": {
     "slide_type": "subslide"
    }
   },
   "source": [
    "- PART ONE: INTRODUCTION\n",
    "- PART TWO: LEVELS OF RESOLUTION 分辨率的层级 (Words, Setences, Paragraphs, Sequence of Paragraphs, Essay, Reader, Culture)\n",
    "- PART THREE: THE TOPIC AND THE READING LIST\n",
    "    - PART FOUR: THE OUTLINE\n",
    "        - PART FIVE: PARAGRAPHS\n",
    "        - PART SIX: EDITING AND ARRANGING OF SENTENCES WITHIN PARAGRAPHS\n",
    "        - PART SEVEN: RE-ORDERING THE PARAGRAPHS\n",
    "    - PART EIGHT: GENERATING A NEW OUTLINE\n",
    "    - PART NINE: REPEAT\n",
    "- PART TEN: REFERENCES AND BIBLIOGRAPHY"
   ]
  },
  {
   "cell_type": "markdown",
   "metadata": {
    "slideshow": {
     "slide_type": "subslide"
    }
   },
   "source": [
    "- 1. Key Puzzlement: The soul or mission\n",
    "    - You Claim: find your true voice \n",
    "- 2. LEVELS OF RESOLUTION\n",
    "- 3. Research gaps: be friends with prior research and researchers\n",
    "    - 4 Theoretical Framework: A Outline!\n",
    "        - 5 Paragraph\n",
    "        - 6 Sentences with in paragraphs\n",
    "        - 7 The sequence of paragraphs\n",
    "    - 8 New Outline\n",
    "    - 9 Repeat\n",
    "- 10. References"
   ]
  },
  {
   "cell_type": "markdown",
   "metadata": {
    "slideshow": {
     "slide_type": "slide"
    }
   },
   "source": [
    "## PART ONE: INTRODUCTION\n",
    "\n",
    "### What is an essay?\n",
    "- An essay is a relatively short piece of writing on a particular topic. \n",
    "- However, the word essay also means attempt or try. \n",
    "\n",
    "**An essay is, therefore, a short piece written by someone attempting to explore a topic or answer a question.**"
   ]
  },
  {
   "cell_type": "markdown",
   "metadata": {
    "slideshow": {
     "slide_type": "subslide"
    }
   },
   "source": [
    "### Why bother writing an essay?\n",
    "- Students write essays because they are required to do so by **a classroom instructor**. \n",
    "- Thus, students come to believe that essays are important primarily to **demonstrate their knowledge** to a teacher or professor. \n",
    "- Even though writing for demonstration may be practically necessary. \n",
    "\n",
    "This is dangerously wrong!\n"
   ]
  },
  {
   "cell_type": "markdown",
   "metadata": {
    "slideshow": {
     "slide_type": "subslide"
    }
   },
   "source": [
    "The primary reason to write an essay\n",
    "\n",
    "1. To **formulate and organize an informed, coherent and sophisticated set of ideas** \n",
    "2. To **answer important questions**. "
   ]
  },
  {
   "cell_type": "markdown",
   "metadata": {
    "slideshow": {
     "slide_type": "subslide"
    }
   },
   "source": [
    "If you want to have a life characterized by competence, productivity, security, originality and engagement rather than one that is nasty, brutish and short, \n",
    "- you need to think carefully about important issues. \n",
    "\n",
    "There is no difference between doing so and thinking, for starters.  知行合一\n",
    "- But there is usually no better way to think carefully than to write. 写作是深入思考的最好的方法\n",
    "    - extends your memory 拓展记忆 \n",
    "    - facilitates editing 促进编辑\n",
    "    - clarifies your thinking 澄清思路"
   ]
  },
  {
   "cell_type": "markdown",
   "metadata": {
    "slideshow": {
     "slide_type": "subslide"
    }
   },
   "source": [
    "- You can write down more than you can easily remember, so that your capacity to consider a number of ideas at the same time is broadened.  记忆：开阔思路\n",
    "- Furthermore, once those ideas are written down, you can move them around and change them, word by word, sentence by sentence, and paragraph by paragraph.  修改：切磋琢磨\n",
    "- You can also reject ideas that appear substandard, after you consider them more carefully.  思想：去伪存真\n",
    "    - If you reject substandard ideas, then all that you will have left will be good ideas. You can keep those, and use them. \n",
    "    - Then you will have good, original ideas at your fingertips, and you will be able to organize and communicate them. "
   ]
  },
  {
   "cell_type": "markdown",
   "metadata": {
    "slideshow": {
     "slide_type": "subslide"
    }
   },
   "source": [
    "The person who can formulate and communicate the best argument almost always wins. \n",
    "能够阐述和传达最佳论点的人几乎总是获胜的。\n",
    "\n",
    "If you want a job, If you want a raise,If you are trying to convince someone of the validity of your idea,\n",
    "\n",
    "- you have to make a case for yourself.  你必须为自己**辩论**。\n",
    "    -  you have to convince someone that you deserve it. 你必须**说服**别人\n",
    "        -  you have to debate its merits successfully, 你必须成功地**论证**它的优点\n",
    "            - particularly if there are others with other competing ideas."
   ]
  },
  {
   "cell_type": "markdown",
   "metadata": {
    "slideshow": {
     "slide_type": "subslide"
    }
   },
   "source": [
    "You can sharpen your capacity to think and to communicate by writing\n",
    "\n",
    "The pen is mightier than the sword. 笔锋利于剑!\n",
    "\n",
    "Ideas change the world, particularly when they are written. 思想改变了世界，尤其是当它们被写下来的时候。\n",
    "\n",
    "- The Romans built buildings, and the Romans and the buildings are both gone. \n",
    "- The Jews wrote a book, and they are still here, and so is the book.\n",
    "    - So it turns out that words may well last longer than stone, and have more impact than whole empires."
   ]
  },
  {
   "cell_type": "markdown",
   "metadata": {
    "slideshow": {
     "slide_type": "subslide"
    }
   },
   "source": [
    "If you learn to write and to edit, you will also be able to tell the difference between good\n",
    "ideas, intelligently presented, and bad ideas put forth by murky and unskilled thinkers. 写作和修改可以帮助我们识别好的想法！\n",
    "\n",
    "\n",
    "- Then you can be properly influenced by profound and solid ideas instead of falling prey to foolish fads and whims and ideologies, which can range in their danger from trivial to mortal."
   ]
  },
  {
   "cell_type": "markdown",
   "metadata": {
    "slideshow": {
     "slide_type": "subslide"
    }
   },
   "source": [
    "Those who can think and communicate are simply more powerful than those who cannot\n",
    "\n",
    "能够思考和交流（知识）的人更有力量！他们可以做更多的事情，更有竞争力，更高效！\n",
    "\n",
    "\n",
    "\n",
    "If you can think and communicate, you can also defend yourself, and your friends and family, when that becomes necessary, and it will become necessary at various points in your life. \n",
    "\n",
    "如果你能思考和沟通，你也可以在必要时保护自己、朋友和家人，这在你生活的各个阶段都是必要的。"
   ]
  },
  {
   "cell_type": "markdown",
   "metadata": {
    "slideshow": {
     "slide_type": "subslide"
    }
   },
   "source": [
    "Finally, it is useful to note that your mind is organized verbally, at the highest and most\n",
    "abstract levels.  在最高和最抽象的层面上，你的思维是以口头方式组织起来的。\n",
    "\n",
    "- Thus, if you learn to think, through writing, then you will develop a well-organized, efficient mind – and one that is well-founded and certain. \n",
    "- You will be healthier, mentally and physically!\n",
    "    - Lack of clarity and ignorance means unnecessary stress. \n",
    "    - Unnecessary stress makes your body react more to what could otherwise be treated as trivial affairs. \n",
    "    - This makes for excess energy expenditure, and more rapid aging (along with all the negative health-related consequences of aging). "
   ]
  },
  {
   "cell_type": "markdown",
   "metadata": {
    "slideshow": {
     "slide_type": "subslide"
    }
   },
   "source": [
    "So, unless you want to stay an ignorant, unhealthy lightweight, learn to write (and to think\n",
    "and communicate). Otherwise those who can will ride roughshod over you and push you out of the way. 除非你想做一个无知的、不健康的轻量级人物，否则就要学会写作以及思考和交流。否则，那些有能力的人会欺负你，把你推开。\n",
    "- Your life will be harder, at the bottom of the dominance hierarchies that you will inevitably inhabit, and you will get old fast.\n",
    "\n",
    "Don’t ever underestimate the power of words. 永远不要低估语言的力量。\n",
    "- Without them, we would still be living in trees. \n",
    "\n",
    "So when you are writing an essay, you are harnessing the full might of culture to your life. 因此，当你写一篇文章时，你是在利用文化的全部力量来生活。\n",
    "\n",
    "Forget that, and you are doing something stupid, trivial and dull. Remember it, and you are conquering the unknown. 逃避写作，你将限于做一些愚蠢、琐碎和无聊的事情；写作就是在征服未知。"
   ]
  },
  {
   "cell_type": "markdown",
   "metadata": {
    "slideshow": {
     "slide_type": "subslide"
    }
   },
   "source": [
    "### Set up a workspace\n",
    "- Obviously, you need a computer. It doesn’t have to be that good, although a digital hard drive is a good investment for speed. \n",
    "- Less obviously, you need two screens, one set up beside the other. \n",
    "- A good keyboard (such as the Microsoft Natural Ergonomic keyboard) is also an excellent investment.\n",
    "- Use a good mouse, as well, and not a touchpad\n",
    "- Use a decent chair, and sit so that your feet can rest comfortably on the floor when your knees are bent 90 degrees. "
   ]
  },
  {
   "cell_type": "markdown",
   "metadata": {
    "slideshow": {
     "slide_type": "subslide"
    }
   },
   "source": [
    "###  Time Control\n",
    "People’s brains function better in the morning. Get up. 早起写作！\n",
    "- Eat something and slept properly 吃好睡好\n",
    "    - You are much smarter and more resilient. \n",
    "    - Have some protein and some fat. \n",
    "    - Coffee alone is counter-productive. \n",
    "    - Make a smoothie with fruit and real yogurt. Go out and buy a cheap breakfast, if necessary. 用水果和真正的酸奶做一杯冰沙。如果有必要，出去买一份便宜的早餐。\n",
    "- Prepare to spend between 90 minutes and three hours writing. 准备好写一个半小时到三个小时！\n",
    "\n",
    "However, even 15 minutes can be useful, particularly if you do it every day. 然而，即使15分钟也很有用，特别是如果你每天都这样做的话。\n",
    "\n"
   ]
  },
  {
   "cell_type": "markdown",
   "metadata": {
    "slideshow": {
     "slide_type": "subslide"
    }
   },
   "source": [
    "Do not wait for a big chunk of free time to start. 不要等到一大块空闲时间才开始。\n",
    "\n",
    "\n",
    "- You will never get big chunks of free time ever in your life, so don’t make your success dependent on their non-existent. \n",
    "- The most effective writers write every day, at least a bit. 最高效的写作者每天写作，即使只写一点。"
   ]
  },
  {
   "cell_type": "markdown",
   "metadata": {
    "slideshow": {
     "slide_type": "subslide"
    }
   },
   "source": [
    "Realize that when you first sit down to write, your mind will rebel. It is full of other ideas, all of which will fight to dominate and attempt to distract you.  要意识到，当你第一次坐下来写作时，你的思想会叛逆。它充满了其他的想法，所有这些想法都将努力控制并试图分散你的注意力。\n",
    "\n",
    "Such pesky demons can be squelched, however, with patience. \n",
    "\n",
    "If you refuse to be tempted for fifteen minutes (25 on a really bad day) you will find that the clamor in your mind will settle down and you will be able to concentrate on writing.  如果你拒绝诱惑15分钟（在一个非常糟糕的日子里是25分钟），你会发现你心中的喧嚣会平息下来，你将能够集中精力写作。\n",
    "\n",
    "If you do this day after day, you will find that the power of such temptations do not reduce, but the duration of their attempts to distract you will decrease. \n",
    "\n",
    "You will also find that even on a day where concentration is very difficult, you will still be able to do some productive writing if you stick it out."
   ]
  },
  {
   "cell_type": "markdown",
   "metadata": {
    "slideshow": {
     "slide_type": "subslide"
    }
   },
   "source": [
    "Don’t kid yourself into thinking you will write for six hours, either. \n",
    "- Three is a maximum, especially if you want to sustain it day after day. \n",
    "- Don’t wait too late to start your writing, so you don’t have to cram insanely, but give yourself a break after a good period of sustained concentration. \n",
    "\n",
    "Three productive hours are way better than ten hours of self-deceptive nonproductivity, even in the library. 三个小时的高效写作比十个小时的低效率写作要好得多!"
   ]
  },
  {
   "cell_type": "markdown",
   "metadata": {
    "slideshow": {
     "slide_type": "slide"
    }
   },
   "source": [
    "\n",
    "## PART TWO: LEVELS OF RESOLUTION\n",
    "Words, sentences, paragraphs and more\n",
    "\n",
    "- **The first level of resolution**:  the selection of the word. \n",
    "- **The second level of resolution**: is the crafting of the sentence. \n",
    "    - Each word should be precisely the right word, in the right location in each sentence. \n",
    "- **The third level of resolution**: Each sentence should be properly arranged and sequenced inside a paragraph\n",
    "    - The sentence itself should present a thought, part of the idea expressed in the paragraph, in a grammatically correct manner. \n",
    "\n"
   ]
  },
  {
   "cell_type": "markdown",
   "metadata": {
    "slideshow": {
     "slide_type": "subslide"
    }
   },
   "source": [
    "As a rule of thumb, a paragraph should be made up\n",
    "of at least 10 sentences or 100 words. \n",
    "\n",
    "This might be regarded as a stupid rule, because it is arbitrary. However, you should let it guide you, until you know better. You have very little\n",
    "right to break the rules, until you have mastered them."
   ]
  },
  {
   "cell_type": "markdown",
   "metadata": {
    "slideshow": {
     "slide_type": "subslide"
    }
   },
   "source": [
    "Here’s a little story to illustrate that idea, taken in part from a document called the Codex\n",
    "Bezae. \n",
    "\n",
    "> Christ is walking down the road on the Sabbath, when good Jews of that time were not supposed to work. In the ditch, he sees a shepherd, trying to rescue a sheep from a hole that it has fallen into. It is very hot and, clearly, the sheep will not be in very good shape if it spends a\n",
    "whole day in the desert sun. On the other hand, it is the Sabbath. Christ looks at the shepherd\n",
    "and says, “Man, if indeed thou knowest what thou doest, thou art blessed: but if thou knowest\n",
    "not, thou art cursed, and a transgressor of the law.” Then he walks on down the road."
   ]
  },
  {
   "cell_type": "markdown",
   "metadata": {
    "slideshow": {
     "slide_type": "subslide"
    }
   },
   "source": [
    "The point is this: There is a rest day for a reason. However, it is also not good to let a sheep die in the hot sun, when a few minutes of labor might save it. \n",
    "- If you are respectful of the rule, and conscious of its importance, and realize that it serves as a bulwark against the chaos of the unknown, and you still decide to break it, carefully, because the particularities of the circumstances demand it – well, then, more power to you. \n",
    "\n",
    "If you are just a careless, ignorant, antisocial narcissist instead, however, then look out. You break a rule at your peril, whether you know it or not."
   ]
  },
  {
   "cell_type": "markdown",
   "metadata": {
    "slideshow": {
     "slide_type": "subslide"
    }
   },
   "source": [
    "Rules are there for a reason. You are only allowed to break them if you are a master. \n",
    "- If you’re not a master, don’t confuse your ignorance with creativity or style. \n",
    "- Writing that follows the rules is easier for readers, because they know roughly what to expect. \n",
    "\n",
    "So rules are conventions. Like all conventions, they are sometimes sub-optimal. But not very often. \n",
    "\n",
    "So, to begin with, use the conventions. For example, aim to make your paragraphs about 10\n",
    "sentences or 100 words long."
   ]
  },
  {
   "cell_type": "markdown",
   "metadata": {
    "slideshow": {
     "slide_type": "subslide"
    }
   },
   "source": [
    "A paragraph should present a single idea, using multiple sentences. \n",
    "- If you can’t think up 100 words to say about your idea, it’s probably not a very good idea, or you need to think more about it. \n",
    "- If your paragraph is rambling on for 300 words, or more, it’s possible that it has more than one idea in it, and should be broken up."
   ]
  },
  {
   "cell_type": "markdown",
   "metadata": {
    "slideshow": {
     "slide_type": "subslide"
    }
   },
   "source": [
    "**The fourth level of resolution**: The Sequence of Paragraphs\n",
    "\n",
    "All of the paragraphs have to be arranged in a logical progression, from the beginning of the\n",
    "essay to the end. \n",
    "\n",
    "Perhaps the most important step in\n",
    "writing an essay is getting the paragraphs in proper order. Each of them is a stepping stone\n",
    "to your essay’s final destination."
   ]
  },
  {
   "cell_type": "markdown",
   "metadata": {
    "slideshow": {
     "slide_type": "subslide"
    }
   },
   "source": [
    "**The fifth level of resolution**: the essay, as a whole. \n",
    "- Every element of an essay can be correct, and the essay can still fail, because it is just not interesting or important. \n",
    "    - It is very hard for **competent but uninspired writers** to understand this kind of failure, because a critic cannot merely point it out. \n",
    "\n",
    "There is no answer to their question, “exactly where did I make a mistake?” Such an essay is just not good. \n",
    "- An essay without originality or creativity might fall into this category. \n"
   ]
  },
  {
   "cell_type": "markdown",
   "metadata": {
    "slideshow": {
     "slide_type": "subslide"
    }
   },
   "source": [
    "Sometimes a creative person, who is not technically proficient as a writer, can make the opposite mistake: \n",
    "- their word choice is poor, their sentences badly constructed and poorly organized within their paragraphs, their paragraphs in no intelligible relationship to one another\n",
    "- and yet the essay as a whole can succeed, \n",
    "- because there are valuable thoughts trapped within it, wishing desperately to find expression."
   ]
  },
  {
   "cell_type": "markdown",
   "metadata": {
    "slideshow": {
     "slide_type": "subslide"
    }
   },
   "source": [
    "### Additional levels\n",
    "An essay necessarily exists within a context of interpretation\n",
    "\n",
    "- **The six level of resolution**: **the reader**, \n",
    "- **The seven level of resolution**: **the culture** that the reader is embedded in \n",
    "\n",
    "Part of the purpose of the essay is to set your mind straight, but the other part, equally important, is to communicate with an audience."
   ]
  },
  {
   "cell_type": "markdown",
   "metadata": {
    "slideshow": {
     "slide_type": "slide"
    }
   },
   "source": [
    "### Considerations of Aesthetics and Fascination\n",
    "\n",
    "You should also strive for \n",
    "1. **brevity**, which is concise and efficient expression.\n",
    "2. **beauty**, which is the melodic or poetic aspect of your language (at all the requisite levels of analysis). \n",
    "3. **not be bored, or boring**. \n",
    "\n",
    "    - If you are bored while writing, then, most importantly,\n",
    "you are doing it wrong, and you will also bore your reader. "
   ]
  },
  {
   "cell_type": "markdown",
   "metadata": {
    "slideshow": {
     "slide_type": "slide"
    }
   },
   "source": [
    "If you are bored by your essay, \n",
    "- you have either chosen the wrong topic one which makes no difference to you and, in all likelihood, to anyone else \n",
    "- you are approaching a good topic in a substandard manner. \n",
    "\n",
    "Perhaps you are resentful about having to write the essay, or afraid of its reception, or lazy, or ignorant, or unduly and arrogantly skeptical, or\n",
    "something of the kind."
   ]
  },
  {
   "cell_type": "markdown",
   "metadata": {
    "slideshow": {
     "slide_type": "slide"
    }
   },
   "source": [
    "You have to place yourself in the correct state of mind to write properly. \n",
    "- That state of mind is partly aesthetic. \n",
    "    - trying to produce something of worth, beauty and elegance. \n",
    "- Or else \n",
    "    - You need to meditate long and hard on why you would dare presume that worth, beauty and elegance are unworthy of your pursuit. \n",
    "    - Do you plan to settle for ugly and uncouth? Do you want to destroy, instead of build?"
   ]
  },
  {
   "cell_type": "markdown",
   "metadata": {
    "slideshow": {
     "slide_type": "slide"
    }
   },
   "source": [
    "You must choose a topic that is important to you. \n",
    "- It should be formulated as a question that you want to answer. \n",
    "- This is arguably the hardest part of writing an essay: **choosing the proper question**. \n",
    "- You have to determine **how to write** about one of those topics **in a manner that is compelling to you**. \n",
    "\n",
    "It’s a moral, spiritual endeavour.\n"
   ]
  },
  {
   "cell_type": "markdown",
   "metadata": {
    "slideshow": {
     "slide_type": "slide"
    }
   },
   "source": [
    "If you properly identify something of interest to you, then you have put yourself in alignment with the deeper levels of your psyche, your spirit. If these deeper levels do not want or need an answer to the question you have posed, you will not possibly be interested in it. \n",
    "\n",
    "**So the fact of your interest is evidence of the importance of the topic.** You, or some part of you, needs the answer – and such needs can be deep enough so that life itself can depend upon them. \n",
    "\n",
    "**Qustion**: “why live?” \n",
    "\n",
    "It is not necessary to ensure that every question you try or essay to answer of that level of importance, but you should not waste your time with ideas that do not grip you. So, the proper attitude is interested and aesthetically sensitive.\n"
   ]
  },
  {
   "cell_type": "markdown",
   "metadata": {
    "slideshow": {
     "slide_type": "slide"
    }
   },
   "source": [
    "**Finished beats perfect.** \n",
    "\n",
    "Most people fail because they don’t write at all, and get zeroes. \n",
    "\n",
    "Zeroes are very bad. They are the black\n",
    "holes of numbers. Zeroes make you fail. Zeroes ruin your life. \n",
    "\n",
    "Hand something in, regardless of how pathetic you think it is (and no matter how accurate you are in that opinion). "
   ]
  },
  {
   "cell_type": "markdown",
   "metadata": {
    "slideshow": {
     "slide_type": "slide"
    }
   },
   "source": [
    "\n",
    "## PART THREE: THE TOPIC AND THE READING LIST\n",
    "\n",
    "The central question that you are trying to answer with the essay is the topic question.\n",
    "\n",
    "Here are some potentially interesting topic questions: \n",
    "1. Does evil exist? \n",
    "2. Are all cultures equally worthy of respect? \n",
    "3. How should a man and a woman treat each other in a relationship? \n",
    "4. What, if anything, makes a person good? \n",
    "\n",
    "These are very general, abstract topics. That makes them philosophical. "
   ]
  },
  {
   "cell_type": "markdown",
   "metadata": {
    "slideshow": {
     "slide_type": "slide"
    }
   },
   "source": [
    "Good topics do not have to be so general. Here are some good, more specific topics:  What were the key events of Julius Caesar’s rule?  What are the critical elements of Charles Darwin’s theory of evolution?  Is “The Sun Also Rises,” by Ernest Hemingway, an important book?  How might Carl Jung and Sigmund Freud’s theory of the psyche be contrasted?  How did Newton and Einstein differ in their conceptualization of time?  Was the recent Iraq war just or unjust?"
   ]
  },
  {
   "cell_type": "markdown",
   "metadata": {
    "slideshow": {
     "slide_type": "subslide"
    }
   },
   "source": [
    "You can begin your essay writing process two different ways. \n",
    "- You can either list the topics you have been assigned, or list ten or so questions that you might want to answer, if you are required to choose your own topic, \n",
    "    - If you think you can already identify several potential topics of interest, start with Topics.\n",
    "- or you can start to create and finalize your reading list. \n",
    "    - If you are unsure, then start constructing your Reading List."
   ]
  },
  {
   "cell_type": "markdown",
   "metadata": {
    "slideshow": {
     "slide_type": "subslide"
    }
   },
   "source": [
    "Topics\n",
    "\n",
    "Put these in question form, as in the examples above.\n",
    "```\n",
    "1.\n",
    "2.\n",
    "3.\n",
    "4.\n",
    "5.\n",
    "6.\n",
    "7.\n",
    "8.\n",
    "9.\n",
    "10.\n",
    "```"
   ]
  },
  {
   "cell_type": "markdown",
   "metadata": {
    "slideshow": {
     "slide_type": "subslide"
    }
   },
   "source": [
    "**If you can’t do this, then you have to do some more reading**\n",
    "- which you will likely have to do to complete the essay anyway)\n",
    "- There is no such thing as reader’s block 阅读障碍. \n",
    "\n",
    "If you can’t write, it is because you have nothing to say. You have no ideas. In such a situation,\n",
    "don’t pride yourself on your writer’s block 写作障碍. \n",
    "\n",
    "Read something. If that doesn’t work, read\n",
    "something else – maybe something better. Repeat until the problem is solved."
   ]
  },
  {
   "cell_type": "markdown",
   "metadata": {
    "slideshow": {
     "slide_type": "subslide"
    }
   },
   "source": [
    "**Reading List**\n",
    "\n",
    "Indicate here what you have to or want to read. These should be books or articles,\n",
    "generally speaking. \n",
    "\n",
    "If you don’t know what articles or books might be appropriate or useful, then you could start with Wikipedia articles or other encyclopedic sources, and look at their reference lists for ideas about further reading. These sources are fine as a\n",
    "beginning."
   ]
  },
  {
   "cell_type": "markdown",
   "metadata": {
    "slideshow": {
     "slide_type": "subslide"
    }
   },
   "source": [
    "If you find someone whose writing is particularly interesting and appropriate, it is often\n",
    "very useful to see if you can find out what authors they admired and read. \n",
    "\n",
    "You can do this by **noting who they refer to**, in the text of their writings or in the reference list. You can meander productively through wide bodies of learning in this manner."
   ]
  },
  {
   "cell_type": "markdown",
   "metadata": {
    "slideshow": {
     "slide_type": "subslide"
    }
   },
   "source": [
    "Assume you need 5-10 books or articles per thousand words of essay, unless you have been\n",
    "instructed otherwise. \n",
    "\n",
    "A double-spaced page of typing usually contains about 250 words.\n",
    "\n",
    "List your sources now, even if you have to do it badly. You can always make it better later."
   ]
  },
  {
   "cell_type": "markdown",
   "metadata": {
    "slideshow": {
     "slide_type": "subslide"
    }
   },
   "source": [
    "```\n",
    "Reading 1.\n",
    "Notes: (see next section for Notes on Notes):\n",
    "Reading 2.\n",
    "Notes:\n",
    "Reading 3.\n",
    "Notes:\n",
    "Reading 4.\n",
    "Notes:\n",
    "Reading 5.\n",
    "Notes:\n",
    "```"
   ]
  },
  {
   "cell_type": "markdown",
   "metadata": {
    "slideshow": {
     "slide_type": "subslide"
    }
   },
   "source": [
    "```\n",
    "Reading 6.\n",
    "Notes:\n",
    "Reading 7.\n",
    "Notes: \n",
    "Reading 8.\n",
    "Notes:\n",
    "Reading 9.\n",
    "Notes:\n",
    "Reading 10 (repeat if necessary).\n",
    "Notes (repeat if necessary):\n",
    "```"
   ]
  },
  {
   "cell_type": "markdown",
   "metadata": {
    "slideshow": {
     "slide_type": "subslide"
    }
   },
   "source": [
    "**A Psychological Note and some Notes on Notes.**\n",
    "\n",
    "While you are reading, see if you can notice anything that catches your attention. \n",
    "- This might be something you think is important, \n",
    "- or something that you seriously disagree with,\n",
    "- or something that you might want to know more about. \n",
    "\n",
    "You have to pay careful attention to your emotional reactions to do this.\n",
    "\n",
    "You also want to take some notes. You can place your notes below the readings you listed\n",
    "above."
   ]
  },
  {
   "cell_type": "markdown",
   "metadata": {
    "slideshow": {
     "slide_type": "subslide"
    }
   },
   "source": [
    "When you are taking notes, don’t bother doing stupid things like highlighting or underlining sentences in the textbook. \n",
    "- There is no evidence that it works. \n",
    "- It just looks like work. \n",
    "\n",
    "What you need to do is to read for understanding. \n",
    "- Read a bit, then write down what you have learned or any questions that have arisen in your mind. \n",
    "- Don’t ever copy the source word for word. \n"
   ]
  },
  {
   "cell_type": "markdown",
   "metadata": {
    "slideshow": {
     "slide_type": "subslide"
    }
   },
   "source": [
    "The most important part of learning and remembering is the recreation of what you have written in your own language.\n",
    "\n",
    "- This is not some simplistic “use your own words.” \n",
    "- This is the dialog you are having with the writer of your sources. \n",
    "- This is your attempt to say back to the author “this is what I understand you are saying.” \n",
    "- This is where you extract the gist of the writing."
   ]
  },
  {
   "cell_type": "markdown",
   "metadata": {
    "slideshow": {
     "slide_type": "slide"
    }
   },
   "source": [
    "If someone asks you about your day, \n",
    "\n",
    "- you don’t say, “Well, first I opened my eyes. Then I blinked and rubbed them. Then I placed my left leg on the floor, and then my right.” You would bore them to death. \n",
    "- Instead, you eliminate the extra detail, and **concentrate on communicating what is important**. \n",
    "\n",
    "That is exactly what you are supposed to be doing when you take some notes during or after reading. **After is often better**. with the book closed, \n",
    "- so that you are not tempted to copy the author’s writing word for word \n",
    "- so that you can fool yourself into thinking you did some work.\n"
   ]
  },
  {
   "cell_type": "markdown",
   "metadata": {
    "slideshow": {
     "slide_type": "slide"
    }
   },
   "source": [
    "If you find note-taking in this manner difficult, try this. \n",
    "- Read a paragraph. Look away. \n",
    "- Then say to yourself, what the paragraph meant. \n",
    "- Listen to what you said, and then quickly write it down."
   ]
  },
  {
   "cell_type": "markdown",
   "metadata": {
    "slideshow": {
     "slide_type": "slide"
    }
   },
   "source": [
    "Take about two to three times as many notes, by word, as you will need for your essay. 根据你的论文需要，逐字记下大约两到三倍的笔记。\n",
    "\n",
    "You might think that is inefficient, but it’s not. \n",
    "\n",
    "- In order to write intelligibly about something, or\n",
    "to speak intelligently about it, you need to know far more than you actually communicate.\n",
    "- That helps you master level six and seven, described previously – the context within which \n",
    "the essay is to be understood. \n",
    "\n",
    "Out of those notes you should be able to derive 8-10 topic questions. Do so. Remember, they can be edited later. Just get them down.\n"
   ]
  },
  {
   "cell_type": "markdown",
   "metadata": {
    "slideshow": {
     "slide_type": "slide"
    }
   },
   "source": [
    "## PART FOUR: THE OUTLINE\n",
    "At this point you have prepared a list of topics, and a reading list. Now it’s time to choose a\n",
    "topic.\n",
    "\n",
    "ENTER TOPIC HERE\n",
    "```\n",
    "1.\n",
    "```"
   ]
  },
  {
   "cell_type": "markdown",
   "metadata": {
    "slideshow": {
     "slide_type": "slide"
    }
   },
   "source": [
    "Here’s another rule. When you write your first draft, it should be longer than the final\n",
    "version. \n",
    "\n",
    "- This is so that you have some extra writing to throw away. \n",
    "\n",
    "You want to have something to throw away after the first draft so that you only have to keep what is good. \n",
    "\n",
    "It is NOT faster to try to write exactly as many words as you need when you first sit down to\n",
    "write. \n",
    "\n",
    "Trying to do so merely makes you too aware of what you are writing. This concern will slow you down. "
   ]
  },
  {
   "cell_type": "markdown",
   "metadata": {
    "slideshow": {
     "slide_type": "slide"
    }
   },
   "source": [
    "Aim at producing a first draft that is 25% longer than the final draft is supposed to be. \n",
    "\n",
    "If your final work is to be 1000 words, then write that (or four pages) below. The word document will automatically add 25% to the length you specify.\n",
    "\n",
    "Now specify the length of your essay.\n",
    "\n",
    "```\n",
    "WORDS:\n",
    "PAGES:\n",
    "ADD 25% TO THE ABOVE LENGTHS\n",
    "\n",
    "```"
   ]
  },
  {
   "cell_type": "markdown",
   "metadata": {
    "slideshow": {
     "slide_type": "slide"
    }
   },
   "source": [
    "**Now you have to write an outline. **\n",
    "\n",
    "This is the most difficult part of writing an essay, and it’s not optional. \n",
    "- The outline of an essay is like the skeleton of a body. \n",
    "    - It provides its fundamental form and structure. \n",
    "- Furthermore, the outline is basically the argument \n",
    "    - with the sentences themselves and the words serving that argument"
   ]
  },
  {
   "cell_type": "markdown",
   "metadata": {
    "slideshow": {
     "slide_type": "subslide"
    }
   },
   "source": [
    "- A thousand-word essay requires a ten-sentence outline. \n",
    "- However, the fundamental outline of an essay should not get much longer than fifteen sentences, even if the essay is several thousand words or more in length. \n",
    "\n",
    "This is because it is difficult to keep an argument of more than that length in mind at one time so that you can assess the quality of its structure.\n",
    "\n",
    "- write a ten to fifteen sentence outline of your essay \n",
    "- if it is longer than a thousand words, then make sub-outlines for each primary outline sentence. "
   ]
  },
  {
   "cell_type": "markdown",
   "metadata": {
    "slideshow": {
     "slide_type": "slide"
    }
   },
   "source": [
    "Here is an example of a\n",
    "good simple outline: \n",
    "\n",
    "1. Topic: Who was Abraham Lincoln?\n",
    "2. Why is Abraham Lincoln worthy of remembrance?\n",
    "3. What were the crucial events of his childhood?\n",
    "4. Of his adolescence?\n",
    "5. Of his young adulthood? "
   ]
  },
  {
   "cell_type": "markdown",
   "metadata": {
    "slideshow": {
     "slide_type": "slide"
    }
   },
   "source": [
    "6. How did he enter politics?\n",
    "7. What were his major challenges?\n",
    "8. What were the primary political and economic issues of his time?\n",
    "9. Who were his enemies?\n",
    "10. How did he deal with them?\n",
    "11. What were his major accomplishments?\n",
    "12. How did he die?\n"
   ]
  },
  {
   "cell_type": "markdown",
   "metadata": {
    "slideshow": {
     "slide_type": "slide"
    }
   },
   "source": [
    "Here is an example of a good longer outline (for a three thousand word essay): \n",
    "- Topic: What is capitalism? \n",
    "- How has capitalism been defined?\n",
    "    - Author 1\n",
    "    - Author 2\n",
    "    - Author 3\n",
    "- Where and when did capitalism develop?\n",
    "    - Country 1\n",
    "    - Country 2\n",
    "- How did capitalism develop in the first 50 years after its origin?\n",
    "    - How did capitalism develop in the second 50 years after its origin?\n",
    "    - (Repeat as necessary) "
   ]
  },
  {
   "cell_type": "markdown",
   "metadata": {
    "slideshow": {
     "slide_type": "slide"
    }
   },
   "source": [
    "\n",
    "- Historical precursors?\n",
    "    - (choose as many centuries as necessary) \n",
    "- Advantages of capitalism?\n",
    "    - Wealth generation\n",
    "    - Technological advancement\n",
    "    - Personal freedom\n",
    "- Disadvantages of capitalism?\n",
    "    - Unequal distribution\n",
    "    - Pollution and other externalized costs \n",
    "- Alternatives to capitalism?\n",
    "    - Fascism\n",
    "    - Communism\n",
    "- Consequences of these alternatives? \n",
    "- Potential future developments? \n",
    "- Conclusion"
   ]
  },
  {
   "cell_type": "markdown",
   "metadata": {
    "slideshow": {
     "slide_type": "slide"
    }
   },
   "source": [
    "Beware of the tendency to write trite, repetitive and clichéd introductions and conclusions.\n",
    "\n",
    "It is often useful to write a stock intro (what is the purpose of this essay? How is it going to\n",
    "proceed?) and a stock conclusion (How did this essay proceed? What was its purpose?). **But they should usually then be thrown away.** \n",
    "\n",
    "Write your outline here. Try for one outline heading per 100 words of essay length. You can add subdivisions, as in the example regarding capitalism, above."
   ]
  },
  {
   "cell_type": "markdown",
   "metadata": {
    "slideshow": {
     "slide_type": "slide"
    }
   },
   "source": [
    "Write outline here:\n",
    "1. Outline sentence 1:\n",
    "2. Outline sentence 2:\n",
    "3. Outline sentence 3:\n",
    "4. Outline sentence 4:\n",
    "5. Outline sentence 5:\n",
    "6. Outline sentence 6:\n",
    "7. Outline sentence 7:\n",
    "8. Outline sentence 8:\n",
    "9. Outline sentence 9:\n",
    "10. Outline sentence 10 (repeat if necessary):"
   ]
  },
  {
   "cell_type": "markdown",
   "metadata": {
    "slideshow": {
     "slide_type": "slide"
    }
   },
   "source": [
    "## PART FIVE: PARAGRAPHS\n",
    "So, now you have your outline. Copy it here:\n",
    "\n",
    "```\n",
    "OUTLINE COPIED HERE\n",
    "```"
   ]
  },
  {
   "cell_type": "markdown",
   "metadata": {
    "slideshow": {
     "slide_type": "slide"
    }
   },
   "source": [
    "**Now, write ten to fifteen sentences per outline heading to complete your paragraph.**\n",
    "\n",
    "You may find it helpful to add additional subdivisions to your outline, and to work back and\n",
    "forth between the outline and the sentences, editing both. Use your notes, as well. \n",
    "\n",
    "- Use single spacing at this point, so that you can see more writing on the paper at once. \n",
    "    - You will format your essay properly later."
   ]
  },
  {
   "cell_type": "markdown",
   "metadata": {
    "slideshow": {
     "slide_type": "slide"
    }
   },
   "source": [
    "Don’t worry too much about:\n",
    "\n",
    "1. how well you are writing at this point. \n",
    "2. the niceties of sentence structure and grammar. \n",
    "\n",
    "That is all best left for the second major step, which is **editing**. \n",
    "\n",
    "- The first major step is the first draft, which can be relatively quick and dirty. \n",
    "- For the first draft you can use your notes, extensively, and rough out the essay. \n",
    "- If you get stuck writing anywhere, just move to the next outline sentence. You can always go back."
   ]
  },
  {
   "cell_type": "markdown",
   "metadata": {
    "slideshow": {
     "slide_type": "slide"
    }
   },
   "source": [
    "The second major step is editing. \n",
    "\n",
    "Production (the first major step) and editing (the second) are different functions, and should be treated that way. \n",
    "\n",
    "This is because each interferes with the other. \n",
    "- The purpose of production is to produce. \n",
    "- The function of editing is to reduce and arrange. \n",
    "\n",
    "If you try to do both at the same time then the editing stymies the production. It’s\n",
    "not faster to combine them, nor is it better, and it is bound to be frustrating."
   ]
  },
  {
   "cell_type": "markdown",
   "metadata": {
    "slideshow": {
     "slide_type": "slide"
    }
   },
   "source": [
    "Here is an example of writing associated with an outline question: \n",
    "\n",
    "note: \n",
    "- places where references are necessary are indicate as (REFERENCE, 19XX). \n",
    "- How to format these references will be discussed later."
   ]
  },
  {
   "cell_type": "markdown",
   "metadata": {
    "slideshow": {
     "slide_type": "slide"
    }
   },
   "source": [
    "**THE 1st Outline sentence**: How has capitalism been defined?\n",
    "Something as complex as capitalism cannot be easily defined. Different authors have\n",
    "each offered their opinion. Liberal or conservative thinkers stress the importance of\n",
    "private property and the ownership rights that accompany such property as key to\n",
    "capitalism (REFERENCE, 19XX). Such private property (including valuable goods and\n",
    "the means by which they are produced) can be traded, freely, with other property\n",
    "owners, in a market where the price is set by public demand, rather than by any\n",
    "central agency. Liberal and conservative thinkers stress efficiency of production, as\n",
    "well as quality, and consider profit the motive for efficiency. They believe that lower\n",
    "cost is a desirable feature of production, and that fair competition helps ensure\n",
    "desirably lower prices. **To Continue**"
   ]
  },
  {
   "cell_type": "markdown",
   "metadata": {
    "slideshow": {
     "slide_type": "slide"
    }
   },
   "source": [
    "The World Socialist Movement (REFERENCE, 19XX), an international consortium of\n",
    "far left political parties, defines capitalism, by contrast, as ownership of the means of\n",
    "production by a small minority of people, the capitalist class, who profitably exploit the \n",
    "working class, the genuine producers, who must sell their ability to work for a salary\n",
    "or wage. Such socialists believe that it is profit that solely motivates capitalism, and\n",
    "that the profit motive is essentially corrupt. Modern environmentalists tend to add the\n",
    "natural world itself to the list of capitalist targets of exploitation (REFERENCE, 19XX).\n",
    "Thinkers on the right tend to regard problems emerging from the capitalist system as\n",
    "real, but trivial in comparison to those produced by other economic and political\n",
    "systems, real and hypothetical. Thinkers on the far left regard capitalism as the central\n",
    "cause of problems as serious as poverty, inequality and environmental degradation,\n",
    "and believe that there are other political and economic systems whose implementation\n",
    "would constitute an improvement."
   ]
  },
  {
   "cell_type": "markdown",
   "metadata": {
    "slideshow": {
     "slide_type": "slide"
    }
   },
   "source": [
    "It took two paragraphs to begin to address the first outline sentence. \n",
    "\n",
    "Notice that the essay begins without referring to itself. It is better to tell the reader what the essay will be about and how the topic will be addressed than to meander around stupidly at the beginning of an essay, but it is still better to grab the reader’s attention immediately without beating around the bush.\n",
    "\n",
    "Once you have completed ten to fifteen sentences for each outline heading, you have finished your first draft. Now it is time to move to editing."
   ]
  },
  {
   "cell_type": "markdown",
   "metadata": {
    "slideshow": {
     "slide_type": "slide"
    }
   },
   "source": [
    "\n",
    "## PART SIX: EDITING AND ARRANGING OF SENTENCES WITHIN PARAGRAPHS\n",
    "Copy the first paragraph of your first draft here:\n",
    "\n",
    "```\n",
    "Paragraph 1:\n",
    "```"
   ]
  },
  {
   "cell_type": "markdown",
   "metadata": {
    "slideshow": {
     "slide_type": "slide"
    }
   },
   "source": [
    "**Now, place each sentence on its own line, so it looks like this** (this example is taken from\n",
    "the first paragraph on capitalism, above):\n",
    "\n",
    "Something as complex as capitalism cannot be easily defined. Different authors have each offered their opinion. Liberal or conservative thinkers stress the importance of private property and the ownership\n",
    "rights that accompany such property as key to capitalism (REFERENCE, 19XX).\n",
    "Such private property (including valuable goods and the means by which they are produced)\n",
    "can be traded, freely, with other property owners, in a market where the price is set by public\n",
    "demand, rather than by any central agency.\n",
    "Liberal and conservative thinkers stress efficiency of production, as well as quality, and\n",
    "consider profit the motive for efficiency.\n",
    "They believe that lower cost is a desirable feature of production, and that fair competition\n",
    "helps ensure desirably lower prices."
   ]
  },
  {
   "cell_type": "markdown",
   "metadata": {
    "slideshow": {
     "slide_type": "subslide"
    }
   },
   "source": [
    "**Now, write another version of each sentence, under each sentence, like this:**\n",
    "\n",
    "*Liberal and conservative thinkers stress efficiency of production, as well as quality, and\n",
    "consider profit the motive for efficiency.*\n",
    "\n",
    "Liberal and conservative thinkers alike stress the importance of quality and efficiency, and\n",
    "see them as properly rewarded by profit."
   ]
  },
  {
   "cell_type": "markdown",
   "metadata": {
    "slideshow": {
     "slide_type": "fragment"
    }
   },
   "source": [
    "In this example, the meaning of the sentence has been changed slightly, during the rewrite.\n",
    "\n",
    "It may be that the second sentence flows better than the first, and is also more precise and\n",
    "meaningful. "
   ]
  },
  {
   "cell_type": "markdown",
   "metadata": {
    "slideshow": {
     "slide_type": "subslide"
    }
   },
   "source": [
    "\n",
    "\n",
    "See if you can make each sentence you have written better, in a similar manner: \n",
    "- Better would mean shorter and simpler (as all unnecessary words should be eliminated). There is almost nothing a novice writer can do that will improve his or her writing more rapidly than writing very short sentences. See if you can cut the length of each sentence by 15-25%. Remember, earlier, you tried to make your essay longer than necessary. Here you can start cleaning it up. \n",
    "\n"
   ]
  },
  {
   "cell_type": "markdown",
   "metadata": {
    "slideshow": {
     "slide_type": "subslide"
    }
   },
   "source": [
    "- Better would mean that each word is precisely and exactly the right word. \n",
    "    - Don’t be tempted to use any word that you would be uncomfortable to use in spoken conversation. \n",
    "    - Often, new writers try to impress their readers with their vocabulary.\n",
    "        - This often backfires when words are used that are technically correct but whose connotation is not, or that are unsuitable within the context of the sentence, paragraph or full essay. \n",
    "        \n",
    "An expert writer will spot such flaws immediately, and see them for what they are: forms of camouflage and deception. \n",
    "\n",
    "Write clearly at a vocabulary level you have mastered (with maybe a bit of stretching, to produce\n",
    "improvement)."
   ]
  },
  {
   "cell_type": "markdown",
   "metadata": {
    "slideshow": {
     "slide_type": "subslide"
    }
   },
   "source": [
    "Read each sentence aloud, and listen to how it sounds. \n",
    "- If it’s awkward, see if you can say it a different, better way. \n",
    "- Listen to what you said, and then write it down. \n",
    "- Rewrite each sentence. \n",
    "\n",
    "Once you have done this with all the sentences, read the old versions and the new versions, and replace the old with the new if the new is better. \n",
    "\n"
   ]
  },
  {
   "cell_type": "markdown",
   "metadata": {
    "slideshow": {
     "slide_type": "subslide"
    }
   },
   "source": [
    "Then copy the new paragraph here:\n",
    "\n",
    "```\n",
    "New paragraph 1:\n",
    "Repeat for each paragraph:\n",
    "New paragraph 2:\n",
    "New paragraph 3:\n",
    "New paragraph 4:\n",
    "New paragraph 5 (etc.): \n",
    "```"
   ]
  },
  {
   "cell_type": "markdown",
   "metadata": {
    "slideshow": {
     "slide_type": "subslide"
    }
   },
   "source": [
    "Now you are going to try to improve each of those paragraphs. \n",
    "\n",
    "Copy them again here, unchanged (you are doing this so that you can easily compare the improved paragraphs to the originals, so that you can be sure they are truly improved, before you keep them):\n",
    "\n",
    "```\n",
    "New paragraph 1 (copy):\n",
    "New paragraph 2 (copy):\n",
    "New paragraph 3 (copy):\n",
    "New paragraph 4 (copy):\n",
    "New paragraph 5 (copy) (etc.):\n",
    "```"
   ]
  },
  {
   "cell_type": "markdown",
   "metadata": {
    "slideshow": {
     "slide_type": "subslide"
    }
   },
   "source": [
    "Start with paragraph 1. \n",
    "- Break it up into single sentences, as you did before. \n",
    "- Now check to see if the sentences are in the best possible order, within each paragraph. \n",
    "- Drag and drop them, or cut and paste them, into better order.\n",
    "- You can also eliminate sentences that are no longer necessary. \n",
    "\n",
    "When you are satisfied with the first paragraph (which means that the sentences are necessary, short and punchy, and in the correct order) then go ahead to the next paragraph and do the same thing."
   ]
  },
  {
   "cell_type": "markdown",
   "metadata": {
    "slideshow": {
     "slide_type": "slide"
    }
   },
   "source": [
    "## PART SEVEN: RE-ORDERING THE PARAGRAPHS\n",
    "\n",
    "Now, copy all of the new, improved paragraphs that you have edited here:\n",
    "\n",
    "```\n",
    "New improved paragraph 1:\n",
    "New improved paragraph 2:\n",
    "New improved paragraph 3:\n",
    "New improved paragraph 4:\n",
    "New improved paragraph 5 (etc.):\n",
    "```\n"
   ]
  },
  {
   "cell_type": "markdown",
   "metadata": {
    "slideshow": {
     "slide_type": "slide"
    }
   },
   "source": [
    "Now you are going to try to improve the order of those new, improved paragraphs. Copy\n",
    "them here, again, unchanged.\n",
    "\n",
    "```\n",
    "New improved paragraph 1 (copy):\n",
    "New improved paragraph 2 (copy):\n",
    "New improved paragraph 3 (copy):\n",
    "New improved paragraph 4 (copy):\n",
    "New improved paragraph 5 (copy) (etc.):\n",
    "```"
   ]
  },
  {
   "cell_type": "markdown",
   "metadata": {
    "slideshow": {
     "slide_type": "slide"
    }
   },
   "source": [
    "Now look at the order of the paragraphs themselves (as you just did with the sentences\n",
    "within each paragraph). \n",
    "\n",
    "- It may well be that by now in the editing process, you will find that the order of the subtopics within your original outline is no longer precisely appropriate, and that some re-ordering of those sub-topics is called for. \n",
    "\n",
    "So, move around the new improved paragraph (copies) above, until they are ordered more appropriately than they were. "
   ]
  },
  {
   "cell_type": "markdown",
   "metadata": {
    "slideshow": {
     "slide_type": "slide"
    }
   },
   "source": [
    "## PART EIGHT: GENERATING A NEW OUTLINE\n",
    "\n",
    "So now you should have produced a pretty decent second draft. \n",
    "\n",
    "You have identified the appropriate sources, written the proper notes, outlined your argument, roughed in a first draft (paragraph by paragraph), rewritten your sentences to make them more elegant, and\n",
    "re-ordered those sentences, as well as the paragraphs themselves. This is much farther\n",
    "than most writers ever get. \n",
    "\n"
   ]
  },
  {
   "cell_type": "markdown",
   "metadata": {
    "slideshow": {
     "slide_type": "slide"
    }
   },
   "source": [
    "You may even think you’re finished – but you’re not.\n",
    "\n",
    "\n",
    "The next step will take you from a “B” essay to an “A” essay. It may even help you write something that is better than you have ever produced (better meaning richer in information, precise, coherent, elegant and beautiful). \n",
    "\n",
    "\n",
    "Copy what you have written so far here:\n",
    "\n",
    "```\n",
    "FULL RE-ORDERED ESSAY HERE\n",
    "```"
   ]
  },
  {
   "cell_type": "markdown",
   "metadata": {
    "slideshow": {
     "slide_type": "slide"
    }
   },
   "source": [
    "Read it. Then go to the next page.\n",
    "\n",
    "This part of the process will probably strike you as unnecessary, or annoying, or both, but\n",
    "what do you know? This is the step that separates the men from the boys, or the women\n",
    "from the boys, or the men from the girls, or whatever version of this saying is acceptably\n",
    "non-sexist and politically correct. "
   ]
  },
  {
   "cell_type": "markdown",
   "metadata": {
    "slideshow": {
     "slide_type": "slide"
    }
   },
   "source": [
    "You have just finished reading your essay. Try now to write a new outline of ten to fifteen\n",
    "sentences. \n",
    "\n",
    "Don’t look back at your essay while you are doing this. If you have to, go back and re-read the whole thing, and then return to this page, but don’t look at your essay while you are rewriting the outline. If you force yourself to reconstruct your argument from memory, you will likely improve it. \n",
    "\n",
    "Generally, when you remember something, you simplify\n",
    "it, while retaining most of what is important. \n",
    "\n",
    "Thus, your memory can serve as a filter, removing what is useless and preserving and organizing what is vital. What you are doing now is distilling what you have written to its essence."
   ]
  },
  {
   "cell_type": "markdown",
   "metadata": {
    "slideshow": {
     "slide_type": "slide"
    }
   },
   "source": [
    "Write new outline here:\n",
    "\n",
    "```\n",
    "1. New outline sentence 1:\n",
    "2. New outline sentence 2:\n",
    "3. New outline sentence 3:\n",
    "4. New outline sentence 4:\n",
    "5. New outline sentence 5:\n",
    "6. New outline sentence 6:\n",
    "7. New outline sentence 7:\n",
    "8. New outline sentence 8:\n",
    "9. New outline sentence 9:\n",
    "10. New outline sentence 10 (repeat if necessary):\n",
    "```"
   ]
  },
  {
   "cell_type": "markdown",
   "metadata": {
    "slideshow": {
     "slide_type": "slide"
    }
   },
   "source": [
    "Now that you have a new outline, you can cut and paste material from your previous essay.\n",
    "\n",
    "- To do this, open up a new Word document beside this one. \n",
    "- Then cut and paste the new outline that you have written into the new Word document. \n",
    "- Return to the original document, and scroll up to the full, re-ordered essay you copied and pasted into Part Eight, above. \n",
    "- Then cut and paste from the re-ordered essay into your new outline."
   ]
  },
  {
   "cell_type": "markdown",
   "metadata": {
    "slideshow": {
     "slide_type": "slide"
    }
   },
   "source": [
    "You may find that you don’t need everything you wrote before. Don’t be afraid to throw\n",
    "unnecessary material away. You are trying to get rid of what is substandard, and leave only\n",
    "what is necessary.\n",
    "\n",
    "Once you have finished cutting and pasting your old material into the new outline, then\n",
    "copy the new essay, and paste it into a new word document. That will be your final essay.\n",
    "Don’t forget to put a title page on it.\n",
    "\n",
    "```\n",
    "PASTE NEWLY OUTLINED ESSAY HERE:\n",
    "```"
   ]
  },
  {
   "cell_type": "markdown",
   "metadata": {
    "slideshow": {
     "slide_type": "slide"
    }
   },
   "source": [
    "## PART NINE: REPEAT\n",
    "\n",
    "Now you have a **third draft**, and it’s probably pretty good. \n",
    "\n",
    "If you really want to take it to the\n",
    "next level, then you can repeat the process of sentence rewriting and re-ordering, as well as\n",
    "paragraph re-ordering and re-outlining. \n",
    "\n",
    " "
   ]
  },
  {
   "cell_type": "markdown",
   "metadata": {
    "slideshow": {
     "slide_type": "slide"
    }
   },
   "source": [
    "Often it is a good idea to wait a few days to do this, so that you can look at what you have produced with fresh eyes. \n",
    "\n",
    "Then you will be able to see what you have written, instead of seeing what you think you wrote (which is the case when you try to edit immediately after producing).\n",
    "\n",
    "You are not genuinely finished until you cannot edit so that your essay improves. Generally, you can tell if this has happened when you try to rewrite a sentence (or a paragraph) and you are not sure that the new version is an improvement over the original."
   ]
  },
  {
   "cell_type": "markdown",
   "metadata": {
    "slideshow": {
     "slide_type": "slide"
    }
   },
   "source": [
    "## PART TEN: REFERENCES AND BIBLIOGRAPHY\n",
    "\n",
    "When you write a sentence that contains what is supposed to be a fact or at least an informed opinion, and you have picked it up from something you read, then you have to refer to that source. \n",
    "\n",
    "- Otherwise, following convention, people may accuse you of plagiarism, which is a form of theft (of intellectual property). \n",
    "\n",
    "There are a large number of conventions that you can follow to properly structure your references and your bibliography (which is a list of books and articles that you have read to obtain relevant background information, but from which you may not have drawn any ideas specific enough to require a reference).\n"
   ]
  },
  {
   "cell_type": "markdown",
   "metadata": {
    "slideshow": {
     "slide_type": "slide"
    }
   },
   "source": [
    "The conventions of the **American Psychological Association (APA)** are commonly used by\n",
    "essay writers. \n",
    "\n",
    "This convention generally requires the use of the last names of the authors of the source in parentheses after the sentence requiring a reference. \n",
    "\n",
    "For example:\n",
    "```\n",
    "It is necessary to add a reference after a sentence containing an opinion which is not\n",
    "your own, or a fact that you have acquired from some source material (Peterson, 2014).\n",
    "```"
   ]
  },
  {
   "cell_type": "markdown",
   "metadata": {
    "slideshow": {
     "slide_type": "slide"
    }
   },
   "source": [
    "This sentence could also be constructed like this:\n",
    "```\n",
    "Peterson (2014) claims that it is necessary to add a reference after a sentence containing an opinion which is not your own, or a fact that you have acquired from some source material.\n",
    "```"
   ]
  },
  {
   "cell_type": "markdown",
   "metadata": {
    "slideshow": {
     "slide_type": "subslide"
    }
   },
   "source": [
    "There are also many conventions covering the use of a direct quote, which have to be followed when you directly quote someone, rather than paraphrasing them. Here is an example, adding the specific (fictional) number of the page containing the quoted material in the original manuscript:\n",
    "\n",
    "```\n",
    "Peterson (2014, p. 19) claims that “the conventions of the American Psychological Association (APA) are commonly used by essay writers.”\n",
    "```"
   ]
  },
  {
   "cell_type": "markdown",
   "metadata": {
    "slideshow": {
     "slide_type": "subslide"
    }
   },
   "source": [
    "In the Reference List, at the end of the essay, Peterson’s paper might be listed, as follows\n",
    "(this is a fictional reference):\n",
    "\n",
    "```\n",
    "Peterson, J.B. (2014). Essay writing for writers. Journal of Essay Writing, 01, 15-24.\n",
    "```\n"
   ]
  },
  {
   "cell_type": "markdown",
   "metadata": {
    "slideshow": {
     "slide_type": "subslide"
    }
   },
   "source": [
    "Different conventions hold for different types of source material such as webpages, books,\n",
    "and articles. All the details regarding APA style can be found at http://www.apastyle.org/\n",
    "\n",
    "Your instructor may have recommended, or demanded, use of a different set of conventions. Information about other techniques and rules can be found at\n",
    "http://www.easybib.com/reference/guide/mla/general."
   ]
  },
  {
   "cell_type": "markdown",
   "metadata": {
    "slideshow": {
     "slide_type": "subslide"
    }
   },
   "source": [
    "\n",
    "It is necessary to master at least one convention. The rules are finicky and annoying. However, they are necessary, so that readers know what writers are up to. Furthermore, you only have to learn them once, so bite the bullet and do it. \n",
    "\n",
    "```\n",
    "Copy your essay here again.\n",
    "```"
   ]
  },
  {
   "cell_type": "markdown",
   "metadata": {
    "slideshow": {
     "slide_type": "subslide"
    }
   },
   "source": [
    "Add references where they are necessary. Then, add your reference list to the end of your\n",
    "essay. Make sure you construct both according to APA convention, or some other set of rules.\n",
    "```\n",
    "YOUR COMPLETED ESSAY\n",
    "```\n",
    "\n",
    "Now your essay is completed. Now you need to copy it into a new Word document, and format it properly."
   ]
  },
  {
   "cell_type": "markdown",
   "metadata": {
    "slideshow": {
     "slide_type": "subslide"
    }
   },
   "source": [
    "That generally means double-spaced, with a title page, with a five space tab indent at the\n",
    "beginning of each paragraph. \n",
    "\n",
    "If you want to add subtitles, or section headers, their use is discussed in detail at https://owl.english.purdue.edu/owl/resource/560/01/ . "
   ]
  },
  {
   "cell_type": "markdown",
   "metadata": {
    "slideshow": {
     "slide_type": "subslide"
    }
   },
   "source": [
    "\n",
    "\n",
    "Additional useful information for style, including examples, can be found at http://bit.ly/ZC5eFV . A\n",
    "video discussing such matters is available at http://bit.ly/ZpX1nR . \n",
    "\n",
    "If you got this far, good work. If you write a number of essays using this process, you will find that your thinking will become richer and clearer, and so will your conversation. There is nothing more vital to becoming educated, and there is nothing more vital than education to your future, and the future of those around you. \n",
    "\n",
    "Good luck with your newly organized and refreshed mind. "
   ]
  }
 ],
 "metadata": {
  "celltoolbar": "幻灯片",
  "kernelspec": {
   "display_name": "Python 3 (ipykernel)",
   "language": "python",
   "name": "python3"
  },
  "language_info": {
   "codemirror_mode": {
    "name": "ipython",
    "version": 3
   },
   "file_extension": ".py",
   "mimetype": "text/x-python",
   "name": "python",
   "nbconvert_exporter": "python",
   "pygments_lexer": "ipython3",
   "version": "3.9.7"
  },
  "toc": {
   "base_numbering": 1,
   "nav_menu": {},
   "number_sections": false,
   "sideBar": false,
   "skip_h1_title": false,
   "title_cell": "Table of Contents",
   "title_sidebar": "Contents",
   "toc_cell": false,
   "toc_position": {
    "height": "863.333px",
    "left": "87px",
    "top": "111.438px",
    "width": "285.174px"
   },
   "toc_section_display": false,
   "toc_window_display": true
  }
 },
 "nbformat": 4,
 "nbformat_minor": 4
}
